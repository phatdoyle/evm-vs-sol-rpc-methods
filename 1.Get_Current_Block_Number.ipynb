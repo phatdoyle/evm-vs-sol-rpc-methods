{
 "cells": [
  {
   "cell_type": "markdown",
   "id": "1a47e7f0-a216-4fc4-a32f-dafec8caa4ff",
   "metadata": {},
   "source": [
    "# Get Block Info\n",
    "\n",
    "Knowing the most recent block of the chain is important. From an analytics perspective I often use this to get and process data between my previous processed block and the most recent block.  "
   ]
  },
  {
   "cell_type": "code",
   "execution_count": 1,
   "id": "5d26ddf7-8511-47b2-8f61-75b2586e01ac",
   "metadata": {},
   "outputs": [],
   "source": [
    "import requests\n",
    "import json"
   ]
  },
  {
   "cell_type": "code",
   "execution_count": 2,
   "id": "03a4efe3-2185-42d6-94d5-e38245a53779",
   "metadata": {},
   "outputs": [],
   "source": [
    "SOLANA_RPC_URL = 'YOUR_SOL_RPC_URL'"
   ]
  },
  {
   "cell_type": "code",
   "execution_count": 3,
   "id": "7b92f58b-6bfe-471f-8b9a-3d1016ca79bf",
   "metadata": {},
   "outputs": [],
   "source": [
    "ETHEREUM_RPC_URL = 'YOUR_ETH_RPC_URL'"
   ]
  },
  {
   "cell_type": "code",
   "execution_count": 5,
   "id": "6dfac304-0504-4ff2-a2da-8527840a6286",
   "metadata": {},
   "outputs": [
    {
     "name": "stdout",
     "output_type": "stream",
     "text": [
      "EVM Block Number: 20871164\n"
     ]
    }
   ],
   "source": [
    "evm_payload = {\n",
    "    \"jsonrpc\": \"2.0\",\n",
    "    \"method\": \"eth_blockNumber\",\n",
    "    \"params\": [],\n",
    "    \"id\": 1\n",
    "}\n",
    "\n",
    "response = requests.post(eth_rpc, json=evm_payload)\n",
    "evm_block_number = response.json()\n",
    "evm_block = int(evm_block_number['result'], 16)\n",
    "print(\"EVM Block Number:\", int(evm_block_number['result'], 16))"
   ]
  },
  {
   "cell_type": "code",
   "execution_count": 8,
   "id": "7fa2d515-c382-40cf-afca-d40c7a7bac97",
   "metadata": {},
   "outputs": [
    {
     "name": "stdout",
     "output_type": "stream",
     "text": [
      "Solana Slot Number: 293092462\n"
     ]
    }
   ],
   "source": [
    "solana_payload = {\n",
    "    \"jsonrpc\": \"2.0\",\n",
    "    \"method\": \"getSlot\",\n",
    "    \"params\": [],\n",
    "    \"id\": 1\n",
    "}\n",
    "\n",
    "response = requests.post(sol_rpc, json=solana_payload)\n",
    "solana_slot = response.json()\n",
    "sol_slot = solana_slot['result']\n",
    "print(\"Solana Slot Number:\", solana_slot['result'])"
   ]
  }
 ],
 "metadata": {
  "kernelspec": {
   "display_name": "Python 3 (ipykernel)",
   "language": "python",
   "name": "python3"
  },
  "language_info": {
   "codemirror_mode": {
    "name": "ipython",
    "version": 3
   },
   "file_extension": ".py",
   "mimetype": "text/x-python",
   "name": "python",
   "nbconvert_exporter": "python",
   "pygments_lexer": "ipython3",
   "version": "3.12.4"
  }
 },
 "nbformat": 4,
 "nbformat_minor": 5
}
